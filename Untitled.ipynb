{
 "cells": [
  {
   "cell_type": "code",
   "execution_count": 1,
   "id": "2f5e5cb4-2741-46dd-97e1-b4692f3f1a3f",
   "metadata": {},
   "outputs": [
    {
     "name": "stdout",
     "output_type": "stream",
     "text": [
      "ScoreBoardDate: 2025-10-05\n",
      "0012500029: Thunder vs. Hornets @ 2025-10-05 17:00:00-04:00\n",
      "0012500030: Lakers vs. Warriors @ 2025-10-05 20:30:00-04:00\n"
     ]
    }
   ],
   "source": [
    "# Query nba.live.endpoints.scoreboard and  list games in localTimeZone\n",
    "from datetime import datetime, timezone\n",
    "from dateutil import parser\n",
    "from nba_api.live.nba.endpoints import scoreboard\n",
    "\n",
    "f = \"{gameId}: {awayTeam} vs. {homeTeam} @ {gameTimeLTZ}\" \n",
    "\n",
    "board = scoreboard.ScoreBoard()\n",
    "print(\"ScoreBoardDate: \" + board.score_board_date)\n",
    "games = board.games.get_dict()\n",
    "for game in games:\n",
    "    gameTimeLTZ = parser.parse(game[\"gameTimeUTC\"]).replace(tzinfo=timezone.utc).astimezone(tz=None)\n",
    "    print(f.format(gameId=game['gameId'], awayTeam=game['awayTeam']['teamName'], homeTeam=game['homeTeam']['teamName'], gameTimeLTZ=gameTimeLTZ))"
   ]
  },
  {
   "cell_type": "code",
   "execution_count": null,
   "id": "da6e18c8-c7c4-4c47-a8a4-e30d4f9c735f",
   "metadata": {},
   "outputs": [],
   "source": []
  }
 ],
 "metadata": {
  "kernelspec": {
   "display_name": "Python 3 (ipykernel)",
   "language": "python",
   "name": "python3"
  },
  "language_info": {
   "codemirror_mode": {
    "name": "ipython",
    "version": 3
   },
   "file_extension": ".py",
   "mimetype": "text/x-python",
   "name": "python",
   "nbconvert_exporter": "python",
   "pygments_lexer": "ipython3",
   "version": "3.12.0"
  }
 },
 "nbformat": 4,
 "nbformat_minor": 5
}
